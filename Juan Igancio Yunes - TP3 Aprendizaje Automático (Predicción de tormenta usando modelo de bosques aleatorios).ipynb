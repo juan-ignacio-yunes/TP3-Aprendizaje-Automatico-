{
 "cells": [
  {
   "cell_type": "markdown",
   "id": "924d3762",
   "metadata": {},
   "source": [
    "# Modelado\n",
    "Se utiliza el mismo dataset que en el TP2, manteniendo el mismo conjunto de entrenamiento y de evaluación, así como las métricas de evaluación \"precision\" y \"recall\".\n",
    "\n",
    "En base a una comparación entre los distintos modelos, la cual se explica más adelante, se elige \"bosques aleatorios\" como método de clasificación.\n",
    "\n",
    "Se aclara que se trabajó con los valores por defecto ya que la búsqueda de hiperparámetros optimizados consumía demasiado tiempo y recursos (a un punto crítico que comprometía el funcionamiento de la operación)."
   ]
  },
  {
   "cell_type": "code",
   "execution_count": 7,
   "id": "4e9f4557",
   "metadata": {},
   "outputs": [],
   "source": [
    "import pandas as pd\n",
    "from sklearn.ensemble import RandomForestClassifier\n",
    "from sklearn.metrics import classification_report, confusion_matrix, accuracy_score, precision_score, recall_score"
   ]
  },
  {
   "cell_type": "code",
   "execution_count": 2,
   "id": "bddd2ff2",
   "metadata": {},
   "outputs": [],
   "source": [
    "# Cargo los datasets de entrenamiento y prueba\n",
    "X_train = pd.read_csv('X_train.csv')\n",
    "y_train = pd.read_csv('y_train.csv')\n",
    "X_test = pd.read_csv('X_test.csv')\n",
    "y_test = pd.read_csv('y_test.csv')"
   ]
  },
  {
   "cell_type": "code",
   "execution_count": 4,
   "id": "5ca79b8f",
   "metadata": {},
   "outputs": [
    {
     "data": {
      "text/plain": [
       "RandomForestClassifier(random_state=42)"
      ]
     },
     "execution_count": 4,
     "metadata": {},
     "output_type": "execute_result"
    }
   ],
   "source": [
    "# Creo el modelo de Bosque Aleatorio\n",
    "modeloBA = RandomForestClassifier(random_state=42)\n",
    "\n",
    "# Entrenamiento\n",
    "modeloBA.fit(X_train, y_train.values.ravel())"
   ]
  },
  {
   "cell_type": "code",
   "execution_count": 5,
   "id": "51df86a4",
   "metadata": {},
   "outputs": [],
   "source": [
    "# Predicción del modelo final entrenado\n",
    "y_pred_modeloBA = modeloBA.predict(X_test)"
   ]
  },
  {
   "cell_type": "markdown",
   "id": "df95b6a5",
   "metadata": {},
   "source": [
    "# Evaluación"
   ]
  },
  {
   "cell_type": "code",
   "execution_count": 14,
   "id": "fcc8f6c4",
   "metadata": {},
   "outputs": [
    {
     "name": "stdout",
     "output_type": "stream",
     "text": [
      "Matriz de Confusión:\n",
      "[[24329  1015]\n",
      " [ 3582  3511]]\n",
      "\n",
      "Precisión del modelo de bosque aleatorio: 0.7757\n",
      "Recall del modelo de bosque aleatorio: 0.4950\n",
      "\n",
      "Reporte de clasificación:\n",
      "              precision    recall  f1-score   support\n",
      "\n",
      "         0.0       0.87      0.96      0.91     25344\n",
      "         1.0       0.78      0.49      0.60      7093\n",
      "\n",
      "    accuracy                           0.86     32437\n",
      "   macro avg       0.82      0.73      0.76     32437\n",
      "weighted avg       0.85      0.86      0.85     32437\n",
      "\n",
      "\n",
      "Exactitud del modelo:\n",
      "Accuracy: 0.8583\n"
     ]
    }
   ],
   "source": [
    "# Evaluación del modelo\n",
    "\n",
    "# Precisión\n",
    "precision_modeloBA = precision_score(y_test, y_pred_modeloBA)\n",
    "\n",
    "# Recall\n",
    "recall_modeloBA = recall_score(y_test, y_pred_modeloBA)\n",
    "\n",
    "# Imprimo los resultados\n",
    "print(\"Matriz de confusión:\")\n",
    "print(confusion_matrix(y_test, y_pred_modeloBA))\n",
    "\n",
    "print(f\"\\nPrecisión del modelo de bosque aleatorio: {precision_modeloBA:.4f}\")\n",
    "print(f\"Recall del modelo de bosque aleatorio: {recall_modeloBA:.4f}\")\n",
    "\n",
    "print(\"\\nReporte de clasificación:\")\n",
    "print(classification_report(y_test, y_pred_modeloBA))\n",
    "\n",
    "print(\"\\nExactitud del modelo:\")\n",
    "print(f'Accuracy: {accuracy_score(y_test, y_pred_modeloBA):.4f}')"
   ]
  },
  {
   "cell_type": "markdown",
   "id": "84d40f21",
   "metadata": {},
   "source": [
    "- Clase 0 (No llueve): una precisión de 0.87 y un recall de 0.96 indican que el modelo es muy bueno para predecir los días en que no lloverá.\n",
    "\n",
    "- Clase 1 (Lluvia): la precisión indica una probabilidad del 78% de que el modelo acierte cunado indica que el día siguiente va a llover. La recall de 0.46, detecta menos de la mitad de los días en que realmente llueve."
   ]
  },
  {
   "cell_type": "markdown",
   "id": "ed8505a8",
   "metadata": {},
   "source": [
    "Fortalezas y debilidades del modelo de bosques aleatorios:\n",
    "\n",
    "\n",
    "- Ventajas:\n",
    "    - Facil de implementar.\n",
    "    - Más simple que SVC y CatBoost y suele requerir menos tiempo de ajuste y entrenamiento.\n",
    "    - Al promediar múltiples árboles de decisión, reduce el sobreajuste del modelo de árbol de clasificación.\n",
    "    - Robustez y buena precisión en la mayoría de los casos.\n",
    "    - Se podría agregar que maneja bien tanto variables numéricas como categóricas, en este caso los conjuntos de datos ya tenían una codificación de estas realizadas en el TP2.\n",
    "    - Puede manejar fácilmente datasets grandes y con muchas características debido que entrenar cada árbol de forma paralela e independiente uno de otro.\n",
    "    - Permite estimar la importancia de cada característica, lo que puede ser útil para entender cuáles variables son más relevantes en la predicción de la lluvia.\n",
    "\n",
    "\n",
    "- Desventajas:\n",
    "    - La combinación de múltiples árboles puede hacer que el modelo sea menos interpretable que un solo árbol de decisión.\n",
    "    - Requiere más tiempo de computación que un solo árbol.\n",
    "    - Probablemente menos preciso que CatBoost, especialmente cuando hay interacciones complejas entre características.\n",
    "    \n",
    "    \n",
    "En resumen, creo que era el modelo que más apropiado considerando rendimiento y simplicidad."
   ]
  },
  {
   "cell_type": "markdown",
   "id": "19189d0b",
   "metadata": {},
   "source": [
    "# Conclusiones"
   ]
  },
  {
   "cell_type": "code",
   "execution_count": 16,
   "id": "3ba92e9d",
   "metadata": {},
   "outputs": [
    {
     "data": {
      "text/html": [
       "<div>\n",
       "<style scoped>\n",
       "    .dataframe tbody tr th:only-of-type {\n",
       "        vertical-align: middle;\n",
       "    }\n",
       "\n",
       "    .dataframe tbody tr th {\n",
       "        vertical-align: top;\n",
       "    }\n",
       "\n",
       "    .dataframe thead th {\n",
       "        text-align: right;\n",
       "    }\n",
       "</style>\n",
       "<table border=\"1\" class=\"dataframe\">\n",
       "  <thead>\n",
       "    <tr style=\"text-align: right;\">\n",
       "      <th></th>\n",
       "      <th>Modelo</th>\n",
       "      <th>Exactitud (Accuracy)</th>\n",
       "      <th>Precisión (Precision)</th>\n",
       "      <th>Recall</th>\n",
       "      <th>F1-Score</th>\n",
       "    </tr>\n",
       "  </thead>\n",
       "  <tbody>\n",
       "    <tr>\n",
       "      <th>0</th>\n",
       "      <td>Modelo Base</td>\n",
       "      <td>0.76</td>\n",
       "      <td>0.46</td>\n",
       "      <td>0.46</td>\n",
       "      <td>0.46</td>\n",
       "    </tr>\n",
       "    <tr>\n",
       "      <th>1</th>\n",
       "      <td>kNN</td>\n",
       "      <td>0.81</td>\n",
       "      <td>0.65</td>\n",
       "      <td>0.32</td>\n",
       "      <td>0.43</td>\n",
       "    </tr>\n",
       "    <tr>\n",
       "      <th>2</th>\n",
       "      <td>Regresión Logística</td>\n",
       "      <td>0.85</td>\n",
       "      <td>0.72</td>\n",
       "      <td>0.50</td>\n",
       "      <td>0.59</td>\n",
       "    </tr>\n",
       "    <tr>\n",
       "      <th>3</th>\n",
       "      <td>Bosque Aleatorio</td>\n",
       "      <td>0.86</td>\n",
       "      <td>0.78</td>\n",
       "      <td>0.49</td>\n",
       "      <td>0.60</td>\n",
       "    </tr>\n",
       "  </tbody>\n",
       "</table>\n",
       "</div>"
      ],
      "text/plain": [
       "                Modelo  Exactitud (Accuracy)  Precisión (Precision)  Recall  \\\n",
       "0          Modelo Base                  0.76                   0.46    0.46   \n",
       "1                  kNN                  0.81                   0.65    0.32   \n",
       "2  Regresión Logística                  0.85                   0.72    0.50   \n",
       "3     Bosque Aleatorio                  0.86                   0.78    0.49   \n",
       "\n",
       "   F1-Score  \n",
       "0      0.46  \n",
       "1      0.43  \n",
       "2      0.59  \n",
       "3      0.60  "
      ]
     },
     "execution_count": 16,
     "metadata": {},
     "output_type": "execute_result"
    }
   ],
   "source": [
    "import pandas as pd\n",
    "\n",
    "# Métricas del modelo base\n",
    "accuracy_base = 0.76\n",
    "precision_base = 0.46\n",
    "recall_base = 0.46\n",
    "f1_base = 0.46\n",
    "\n",
    "# Métricas del modelo kNN\n",
    "accuracy_knn = 0.81\n",
    "precision_knn = 0.65\n",
    "recall_knn = 0.32\n",
    "f1_knn = 0.43\n",
    "\n",
    "# Métricas del modelo de regresión logística\n",
    "accuracy_logreg = 0.85\n",
    "precision_logreg = 0.72\n",
    "recall_logreg = 0.50\n",
    "f1_logreg = 0.59\n",
    "\n",
    "# Métricas del modelo de bosque aleatorio\n",
    "accuracy_modeloBA = 0.86\n",
    "precision_modeloBA = 0.78\n",
    "recall_modeloBA = 0.49\n",
    "f1_modeloBA = 0.6\n",
    "\n",
    "# Armado de tabla comparativa\n",
    "data = {\n",
    "    'Modelo': ['Modelo Base', 'kNN', 'Regresión Logística', 'Bosque Aleatorio'],\n",
    "    'Exactitud (Accuracy)': [accuracy_base, accuracy_knn, accuracy_logreg, accuracy_modeloBA],\n",
    "    'Precisión (Precision)': [precision_base, precision_knn, precision_logreg, precision_modeloBA],\n",
    "    'Recall': [recall_base, recall_knn, recall_logreg, recall_modeloBA],\n",
    "    'F1-Score': [f1_base, f1_knn, f1_logreg, f1_modeloBA]\n",
    "}\n",
    "\n",
    "# Convertir a DataFrame\n",
    "df_comparativa = pd.DataFrame(data)\n",
    "\n",
    "# Mostrar la tabla comparativa\n",
    "df_comparativa"
   ]
  },
  {
   "cell_type": "markdown",
   "id": "eaf26224",
   "metadata": {},
   "source": [
    "# Comparación entre modelos:\n",
    "\n",
    "\n",
    "El modelo de bosque aleatorio tiene mejores indicadores en todos los aspectos:\n",
    "- La mayor exactitud (0.86), lo que indica que realiza la mayor cantidad de predicciones correctas.\n",
    "- Con una precisión de 0.78, es el mejor en términos de asegurar que cuando predice lluvia, tiene una alta probabilidad de acertar.\n",
    "\n",
    "# Conclusión final:\n",
    "\n",
    "El modelo de bosque aleatorio es el mejor. Aunque la mejora en la exactitud sobre la regresión logística es marginal (0.86 vs 0.85), una precisión mayor significa que el modelo es más confiable cuando predice un día de lluvia. Además, el F1-Score es el más alto, lo que sugiere que maneja mejor el equilibrio entre detectar los días de lluvia y evitar falsos positivos."
   ]
  },
  {
   "cell_type": "markdown",
   "id": "a10b9316",
   "metadata": {},
   "source": [
    "# Resumen de los hallazgos más relevantes obtenidos durante todo el proceso desde el TP1 al TP3:\n",
    "    \n",
    "Del TP1 rescato:\n",
    "\n",
    "- La importancia de observar los datos para obtener información más bien descriptiva. Por ejemplo:\n",
    "\n",
    "    - La ciudad de CoffsHarbour registró la mayor cantidad de precipitación en un solo día, con 371 mm, lo que indica un evento de lluvia extrema. \n",
    "    - Nhil se identificó como la ciudad con la menor cantidad total de lluvias registradas, lo que podría sugerir condiciones más áridas.\n",
    "\n",
    "- Se puede extraer cierto conocimiento preliminar para análisis más abstractos y complejos. Eso es, mediante la observación de gráficos, se puede intuir cierta relación entre atributos y tenerlas en cuenta al momento de elegir cuales usar en métodos de predicción. Por ejemplo: la relación entre humedad y que llueve el mismo día.\n",
    "\n",
    "En los TPs 2 y 3 se trabajó con modelos que permiten captar las relaciones entre los datos y resumirlas a métricas que nos dan una idea de que tan bien cada modelo explica las relaciones entre variables de entrada y un resultado. En el caso particular de los datos con los que se trabajó, se vió que modelos más complejos arrojaron mejores resultados."
   ]
  },
  {
   "cell_type": "code",
   "execution_count": 17,
   "id": "435edaf5",
   "metadata": {},
   "outputs": [],
   "source": [
    "import pickle\n",
    "\n",
    "# Guardo el modelo de bosque aleatorio en formato pickle\n",
    "with open('modelo_bosqueAleatorio.pkl', 'wb') as file:\n",
    "    pickle.dump(modeloBA, file)"
   ]
  }
 ],
 "metadata": {
  "kernelspec": {
   "display_name": "Python 3 (ipykernel)",
   "language": "python",
   "name": "python3"
  },
  "language_info": {
   "codemirror_mode": {
    "name": "ipython",
    "version": 3
   },
   "file_extension": ".py",
   "mimetype": "text/x-python",
   "name": "python",
   "nbconvert_exporter": "python",
   "pygments_lexer": "ipython3",
   "version": "3.9.12"
  }
 },
 "nbformat": 4,
 "nbformat_minor": 5
}
